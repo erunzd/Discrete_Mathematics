{
 "cells": [
  {
   "cell_type": "markdown",
   "id": "convenient-spider",
   "metadata": {},
   "source": [
    "## ASSIGNMENT 1: SET THEORY\n",
    "###### Rhoddz M. Gerunda\n",
    "---"
   ]
  },
  {
   "cell_type": "code",
   "execution_count": 2,
   "id": "literary-programmer",
   "metadata": {},
   "outputs": [],
   "source": [
    "def drawVenn2(A,B,labels = ('A', 'B')):\n",
    "    '''\n",
    "    listing elements in Venn diagram of two sets\n",
    "    '''\n",
    "    v2=venn2([A,B],set_labels = labels);\n",
    "    v2.get_label_by_id('01').set_text(', '.join(map(str,B-A)))\n",
    "    v2.get_label_by_id('10').set_text(', '.join(map(str,A-B)))\n",
    "    if A&B:\n",
    "        v2.get_label_by_id('11').set_text(', '.join(map(str,A&B)))"
   ]
  },
  {
   "cell_type": "code",
   "execution_count": 3,
   "id": "future-panama",
   "metadata": {},
   "outputs": [],
   "source": [
    "def drawVenn3(A,B,C,labels = ('A', 'B', 'C')):\n",
    "    '''\n",
    "    listing elements in Venn diagram of three sets, A, B, C\n",
    "    '''\n",
    "    v3=venn3([A,B,C],set_labels = labels);\n",
    "    if A-B-C:\n",
    "        v3.get_label_by_id('100').set_text('\\n'.join(map(str,A-B-C)))\n",
    "        v3.get_patch_by_id('100').set_alpha(0.6)\n",
    "        v3.get_patch_by_id('100').set_facecolor('Pink')\n",
    "    if A&B-C:\n",
    "        v3.get_label_by_id('110').set_text('\\n'.join(map(str,A&B-C)))\n",
    "        v3.get_patch_by_id('110').set_alpha(0.3)\n",
    "        v3.get_patch_by_id('110').set_facecolor('Red')\n",
    "    if B-C-A:\n",
    "        v3.get_label_by_id('010').set_text('\\n'.join(map(str,B-C-A)))\n",
    "        v3.get_patch_by_id('010').set_alpha(0.6)\n",
    "        v3.get_patch_by_id('010').set_facecolor('Magenta')\n",
    "    if A&C-B:\n",
    "        v3.get_label_by_id('101').set_text('\\n'.join(map(str,A&C-B)))\n",
    "        v3.get_patch_by_id('101').set_alpha(0.3)\n",
    "        v3.get_patch_by_id('101').set_facecolor('Green')\n",
    "    if A&B&C:\n",
    "        v3.get_label_by_id('111').set_text('\\n'.join(map(str,A&B&C)))\n",
    "        v3.get_patch_by_id('111').set_alpha(0.1)\n",
    "        v3.get_patch_by_id('111').set_facecolor('Black')\n",
    "    if B&C-A:\n",
    "        v3.get_label_by_id('011').set_text('\\n'.join(map(str,B&C-A)))\n",
    "        v3.get_patch_by_id('011').set_alpha(0.3)\n",
    "        v3.get_patch_by_id('011').set_facecolor('Blue')\n",
    "    if C-B-A:\n",
    "        v3.get_label_by_id('001').set_text('\\n'.join(map(str,C-B-A)))\n",
    "        v3.get_patch_by_id('001').set_alpha(0.6)\n",
    "        v3.get_patch_by_id('001').set_facecolor('Cyan')"
   ]
  },
  {
   "cell_type": "code",
   "execution_count": 6,
   "id": "sharp-canvas",
   "metadata": {},
   "outputs": [],
   "source": [
    "from matplotlib_venn import venn2, venn2_circles, venn2_unweighted,  venn3_unweighted\n",
    "from matplotlib_venn import venn3, venn3_circles\n",
    "from IPython.display import display, Latex, Math\n",
    "import matplotlib.pyplot as plt\n",
    "import pandas as pd\n",
    "%matplotlib inline"
   ]
  },
  {
   "cell_type": "markdown",
   "id": "another-medline",
   "metadata": {},
   "source": [
    "# 1. Proving Identities\n",
    "---\n",
    "#### Use Latex programming to show your solutions.\n",
    "#### Be Resourceful, use the internet.\n",
    "Given: A and B are sets, $\\exists$ x such that (x $\\in$ A $\\land$ x $\\in$ B)<br>\n",
    "Show that:\n",
    "- A\\B = A $\\cap$ $B^{c}$ \n",
    "- B = (B $\\cap$ A) $\\cup$ (B $\\cap$ $A^{c}$)\n",
    "- B\\A = B $\\cap$ $A^{c}$\n",
    "- A $\\cup$ B = A $\\cup$ (B $\\cap$ $A^{c}$)\n",
    "- $(\\textbf{U}_{i=1}^{\\infty} A_{i}^{c})^{c}$ = $\\cap_{i=1}^{\\infty}A_{i}$\n",
    "- |A $\\cup$ B| = |A| + |B| - |A $\\cap$ B|"
   ]
  },
  {
   "cell_type": "code",
   "execution_count": 8,
   "id": "personal-palestine",
   "metadata": {},
   "outputs": [
    {
     "data": {
      "text/latex": [
       "$A$ = {11, 12, 13, 14, 15}"
      ],
      "text/plain": [
       "<IPython.core.display.Latex object>"
      ]
     },
     "metadata": {},
     "output_type": "display_data"
    },
    {
     "data": {
      "text/latex": [
       "$B$ = {16, 17, 18, 14, 15}"
      ],
      "text/plain": [
       "<IPython.core.display.Latex object>"
      ]
     },
     "metadata": {},
     "output_type": "display_data"
    },
    {
     "data": {
      "text/latex": [
       "$A|B$ = {11, 12, 13, 14, 15, 16, 17, 18}"
      ],
      "text/plain": [
       "<IPython.core.display.Latex object>"
      ]
     },
     "metadata": {},
     "output_type": "display_data"
    },
    {
     "data": {
      "text/latex": [
       "$A - B =$ {11, 12, 13, 14, 15}$\\;-\\;${16, 17, 18, 14, 15}"
      ],
      "text/plain": [
       "<IPython.core.display.Latex object>"
      ]
     },
     "metadata": {},
     "output_type": "display_data"
    },
    {
     "data": {
      "text/latex": [
       "$A\\B =$ {11, 12, 13}"
      ],
      "text/plain": [
       "<IPython.core.display.Latex object>"
      ]
     },
     "metadata": {},
     "output_type": "display_data"
    },
    {
     "data": {
      "text/latex": [
       "$A \\cap B^{c}$ = {11, 12, 13, 14, 15} & {11, 12, 13}"
      ],
      "text/plain": [
       "<IPython.core.display.Latex object>"
      ]
     },
     "metadata": {},
     "output_type": "display_data"
    },
    {
     "data": {
      "text/latex": [
       "$A \\cap B^{c}$ = {11, 12, 13}"
      ],
      "text/plain": [
       "<IPython.core.display.Latex object>"
      ]
     },
     "metadata": {},
     "output_type": "display_data"
    },
    {
     "data": {
      "text/latex": [
       "$\\therefore A\\B = A \\cap B^{c}$: True"
      ],
      "text/plain": [
       "<IPython.core.display.Latex object>"
      ]
     },
     "metadata": {},
     "output_type": "display_data"
    }
   ],
   "source": [
    "#### Pythonic solution\n",
    "\n",
    "#A\n",
    "\n",
    "def prove_identity():\n",
    "    A = {11, 12, 13, 14, 15}\n",
    "    B = {14, 15, 16, 17, 18}\n",
    "    U = A.union(B)  \n",
    "    diff = A - B\n",
    "    complements1 = U-B\n",
    "    complements2 = A.intersection(complements1)\n",
    "\n",
    "    display(Latex('$A$ = ' + str(A)))\n",
    "    display(Latex('$B$ = ' + str(B)))\n",
    "    display(Latex('$A|B$ = ' + str(U)))\n",
    "\n",
    "    display(Latex('$A - B =$ ' + str(A) + str('$\\;-\\;$') + str(B)))\n",
    "    display(Latex('$A\\B =$ ' + str(diff)))\n",
    "    display(Latex('$A \\cap B^{c}$ = ' + str(A) + str(' & ') + str(complements1)))\n",
    "    display(Latex('$A \\cap B^{c}$ = ' + str(complements2)))\n",
    "    display(Latex('$\\\\therefore A\\B = A \\cap B^{c}$: ' + str(diff == complements2)))\n",
    "\n",
    "# :(     \n",
    "prove_identity()"
   ]
  },
  {
   "cell_type": "markdown",
   "id": "straight-checkout",
   "metadata": {},
   "source": [
    "1. $\\forall x (x \\in A\\B \\iff x \\in A \\cap B^{c})$\n",
    "---"
   ]
  },
  {
   "cell_type": "code",
   "execution_count": 9,
   "id": "addressed-french",
   "metadata": {},
   "outputs": [
    {
     "data": {
      "text/latex": [
       "$B$ = {4, 5, 6, 7, 8}"
      ],
      "text/plain": [
       "<IPython.core.display.Latex object>"
      ]
     },
     "metadata": {},
     "output_type": "display_data"
    },
    {
     "data": {
      "text/latex": [
       "$(B \\cap A)$ = {4, 5}"
      ],
      "text/plain": [
       "<IPython.core.display.Latex object>"
      ]
     },
     "metadata": {},
     "output_type": "display_data"
    },
    {
     "data": {
      "text/latex": [
       "$(B \\cap A^{c})$ = {8, 6, 7}"
      ],
      "text/plain": [
       "<IPython.core.display.Latex object>"
      ]
     },
     "metadata": {},
     "output_type": "display_data"
    },
    {
     "data": {
      "text/latex": [
       "$(B \\cap A) \\cup (B \\cap A^{c})$ = {4, 5} | {8, 6, 7}"
      ],
      "text/plain": [
       "<IPython.core.display.Latex object>"
      ]
     },
     "metadata": {},
     "output_type": "display_data"
    },
    {
     "data": {
      "text/latex": [
       "$(B \\cap A) \\cup (B \\cap A^{c})$ = {4, 5, 6, 7, 8}"
      ],
      "text/plain": [
       "<IPython.core.display.Latex object>"
      ]
     },
     "metadata": {},
     "output_type": "display_data"
    },
    {
     "data": {
      "text/latex": [
       "$\\therefore B = (B \\cap A) \\cup (B \\cap A^{c})$: True"
      ],
      "text/plain": [
       "<IPython.core.display.Latex object>"
      ]
     },
     "metadata": {},
     "output_type": "display_data"
    }
   ],
   "source": [
    "#### Pythonic solution\n",
    "\n",
    "#B\n",
    "\n",
    "def prove_identity():\n",
    "    A = {1, 2, 3, 4, 5}\n",
    "    B = {4, 5, 6, 7, 8}\n",
    "    U = A.union(B)\n",
    "    var1 = B.intersection(A)\n",
    "    var2 = U-A\n",
    "    var3 = B.intersection(var2)\n",
    "    var4 = var1.union(var3)\n",
    "    \n",
    "    display(Latex('$B$ = ' + str(B)))\n",
    "    display(Latex('$(B \\cap A)$ = ' + str(var1)))\n",
    "    display(Latex('$(B \\cap A^{c})$ = ' + str(var3)))\n",
    "    display(Latex('$(B \\cap A) \\cup (B \\cap A^{c})$ = ' + str(var1) + str(' | ') + str(var2)))\n",
    "    display(Latex('$(B \\cap A) \\cup (B \\cap A^{c})$ = ' + str(var4)))\n",
    "    \n",
    "    display(Latex('$\\\\therefore B = (B \\cap A) \\cup (B \\cap A^{c})$: ' + str(B == var4)))\n",
    "\n",
    "\n",
    "prove_identity()"
   ]
  },
  {
   "cell_type": "markdown",
   "id": "opened-gallery",
   "metadata": {},
   "source": [
    "2. $\\forall x (x \\in B \\iff x \\in (B \\cap A) \\cup (B \\cap A^{c})$\n",
    "---"
   ]
  },
  {
   "cell_type": "code",
   "execution_count": 10,
   "id": "shared-credit",
   "metadata": {},
   "outputs": [
    {
     "data": {
      "text/latex": [
       "$A =$ {1, 2, 3, 4, 5, 6}"
      ],
      "text/plain": [
       "<IPython.core.display.Latex object>"
      ]
     },
     "metadata": {},
     "output_type": "display_data"
    },
    {
     "data": {
      "text/latex": [
       "$B =$ {5, 6, 7, 8, 9, 10}"
      ],
      "text/plain": [
       "<IPython.core.display.Latex object>"
      ]
     },
     "metadata": {},
     "output_type": "display_data"
    },
    {
     "data": {
      "text/latex": [
       "$A|B$ = {1, 2, 3, 4, 5, 6, 7, 8, 9, 10}"
      ],
      "text/plain": [
       "<IPython.core.display.Latex object>"
      ]
     },
     "metadata": {},
     "output_type": "display_data"
    },
    {
     "data": {
      "text/latex": [
       "$B - A =$ {5, 6, 7, 8, 9, 10}$\\;-\\;${1, 2, 3, 4, 5, 6}"
      ],
      "text/plain": [
       "<IPython.core.display.Latex object>"
      ]
     },
     "metadata": {},
     "output_type": "display_data"
    },
    {
     "data": {
      "text/latex": [
       "$B\\A =$ {8, 9, 10, 7}"
      ],
      "text/plain": [
       "<IPython.core.display.Latex object>"
      ]
     },
     "metadata": {},
     "output_type": "display_data"
    },
    {
     "data": {
      "text/latex": [
       "$B \\cap A^{c}$ = {5, 6, 7, 8, 9, 10} & {8, 9, 10, 7}"
      ],
      "text/plain": [
       "<IPython.core.display.Latex object>"
      ]
     },
     "metadata": {},
     "output_type": "display_data"
    },
    {
     "data": {
      "text/latex": [
       "$B \\cap A^{c}$ = {8, 9, 10, 7}"
      ],
      "text/plain": [
       "<IPython.core.display.Latex object>"
      ]
     },
     "metadata": {},
     "output_type": "display_data"
    },
    {
     "data": {
      "text/latex": [
       "$\\therefore B\\A = B \\cap A^{c}$: True"
      ],
      "text/plain": [
       "<IPython.core.display.Latex object>"
      ]
     },
     "metadata": {},
     "output_type": "display_data"
    }
   ],
   "source": [
    "#### Pythonic Solution\n",
    "\n",
    "#C\n",
    "\n",
    "def prove_identity():\n",
    "    A = {1, 2, 3, 4, 5, 6}\n",
    "    B = {5, 6, 7, 8, 9, 10}\n",
    "    U = A.union(B)\n",
    "    diff2 = B - A\n",
    "    complements = U-A\n",
    "    complements1 = B & complements\n",
    "\n",
    "    display(Latex('$A =$ ' + str(A)))\n",
    "    display(Latex('$B =$ ' + str(B)))\n",
    "    display(Latex('$A|B$ = ' + str(U)))\n",
    "    \n",
    "    display(Latex('$B - A =$ ' + str(B) + str('$\\;-\\;$') + str(A)))\n",
    "    display(Latex('$B\\A =$ ' + str(diff2)))\n",
    "    display(Latex('$B \\cap A^{c}$ = ' + str(B) + str(' & ') + str(complements)))\n",
    "    display(Latex('$B \\cap A^{c}$ = ' + str(complements1)))\n",
    "    \n",
    "    display(Latex('$\\\\therefore B\\A = B \\cap A^{c}$: ' + str(diff2 == complements1)))\n",
    "\n",
    "\n",
    "prove_identity()"
   ]
  },
  {
   "cell_type": "markdown",
   "id": "married-recipe",
   "metadata": {},
   "source": [
    "3. $\\forall x (x \\in B\\A \\iff x \\in B \\cap A^{c})$\n",
    "---"
   ]
  },
  {
   "cell_type": "markdown",
   "id": "threatened-recorder",
   "metadata": {},
   "source": [
    "##### : De Morgan's Laws for sets\n",
    "1. ($A \\cup B)^c = A^c \\cap B^c$)\n",
    "2. ($A \\cap B)^c = A^c \\cup B^c$)\n",
    "\n",
    "\n",
    "\\[\n",
    "\\begin{align*}\n",
    "\\left(\\bigcup_{i=1}^{\\infty} A_i^{c}\\right)^{c} &= \\left(A_1^{c} \\cup A_2^{c} \\cup A_3^{c} \\cup \\ldots\\right)^{c} \\\\\n",
    "&= \\left(A_1^{c}\\right)^c \\cap \\left(A_2^{c}\\right)^c \\cap \\left(A_3^{c}\\right)^c \\cap \\ldots \\\\\n",
    "&= A_1 \\cap A_2 \\cap A_3 \\cap \\ldots \\\\\n",
    "&= \\bigcap_{i=1}^{\\infty} A_i\n",
    "\\end{align*}\n",
    "\\]<br>\n",
    "$\\therefore$\n",
    "$(\\textbf{U}_{i=1}^{\\infty} A_{i}^{c})^{c}$ = $\\cap_{i=1}^{\\infty}A_{i}$"
   ]
  },
  {
   "cell_type": "code",
   "execution_count": 11,
   "id": "unlimited-jason",
   "metadata": {},
   "outputs": [
    {
     "data": {
      "text/latex": [
       "$|A \\cup B|$ = 6"
      ],
      "text/plain": [
       "<IPython.core.display.Latex object>"
      ]
     },
     "metadata": {},
     "output_type": "display_data"
    },
    {
     "data": {
      "text/latex": [
       "$|A|+|B|$ = 12"
      ],
      "text/plain": [
       "<IPython.core.display.Latex object>"
      ]
     },
     "metadata": {},
     "output_type": "display_data"
    },
    {
     "data": {
      "text/latex": [
       "$|A \\cap B|$ = 6"
      ],
      "text/plain": [
       "<IPython.core.display.Latex object>"
      ]
     },
     "metadata": {},
     "output_type": "display_data"
    },
    {
     "data": {
      "text/latex": [
       "$|A|+|B| - |A \\cap B|$ = 6"
      ],
      "text/plain": [
       "<IPython.core.display.Latex object>"
      ]
     },
     "metadata": {},
     "output_type": "display_data"
    },
    {
     "data": {
      "text/latex": [
       "$|A \\cup B| = |A|+|B|-|A \\cap B|$: True"
      ],
      "text/plain": [
       "<IPython.core.display.Latex object>"
      ]
     },
     "metadata": {},
     "output_type": "display_data"
    }
   ],
   "source": [
    "#### Pythonic Solution\n",
    "\n",
    "#C\n",
    "\n",
    "def prove_identity():\n",
    "    A = {1, 2, 3, 4, 5, 6}\n",
    "    B = {5, 6, 7, 8, 9, 10}\n",
    "    var = len(A)|len(B)\n",
    "    var1 = len(A)+len(B)\n",
    "    var2 = len(A)&len(B)\n",
    "    var3 = var1 - var2\n",
    "    \n",
    "    display(Latex('$|A \\cup B|$ = ' + str(var)))\n",
    "    display(Latex('$|A|+|B|$ = ' + str(var1)))\n",
    "    display(Latex('$|A \\cap B|$ = ' + str(var2)))\n",
    "    display(Latex('$|A|+|B| - |A \\cap B|$ = ' + str(var3)))\n",
    "    \n",
    "    display(Latex('$|A \\cup B| = |A|+|B|-|A \\cap B|$: ' + str(var3 == var3)))\n",
    "\n",
    "\n",
    "prove_identity()"
   ]
  },
  {
   "cell_type": "markdown",
   "id": "regulated-latex",
   "metadata": {},
   "source": [
    "5. $\\forall x (x \\in |A| \\cup |B| \\iff x \\in |A| + |B| - |A \\cap B|)$"
   ]
  },
  {
   "cell_type": "markdown",
   "id": "induced-holiday",
   "metadata": {},
   "source": [
    "# 2. Sets and Subsets\n",
    "---\n",
    "#### Use Latex Programming to show your solutions.\n",
    "- If A = {2,3,4,5}, and B = {$x \\in \\mathbb{N} | x \\ is \\ even$}. Is A $\\subset$ B? Show a proof.\n",
    "- Let sets $\\textbf{A} = \\{x|x \\in \\mathbb{Z}, 0 \\leq x \\leq 9\\},\n",
    "\\textbf{B} = \\{ 2,4,6,8\\},\n",
    "\\ and \\ \n",
    "\\textbf{C}  = \\{ 1,3,5,7,9\\}\n",
    "\\ and \\ \\textbf{D}  = \\{ 3,4,5\\}$\n",
    "Find a set $\\textbf{X}$ which will satisfy the following conditions:\n",
    "    1. $\\textbf{X} \\ and \\ \\textbf{B}$ are disjoint.\n",
    "    2. $\\textbf{X} \\subseteq \\textbf{D}$ but $\\textbf{X} \\nsubseteq \\textbf{B}$.\n",
    "    3. $\\textbf{X} \\subseteq \\textbf{A}$ but $\\textbf{X} \\not\\subset \\textbf{C}$.\n",
    "    \n",
    "#### Pythonic solutions"
   ]
  },
  {
   "cell_type": "markdown",
   "id": "developing-miami",
   "metadata": {},
   "source": [
    "---"
   ]
  },
  {
   "cell_type": "code",
   "execution_count": 14,
   "id": "progressive-captain",
   "metadata": {},
   "outputs": [
    {
     "data": {
      "text/latex": [
       "$A$ = {2, 3, 4, 5}"
      ],
      "text/plain": [
       "<IPython.core.display.Latex object>"
      ]
     },
     "metadata": {},
     "output_type": "display_data"
    },
    {
     "data": {
      "text/latex": [
       "$B$ = {'...', 2, 4, 6, 8}"
      ],
      "text/plain": [
       "<IPython.core.display.Latex object>"
      ]
     },
     "metadata": {},
     "output_type": "display_data"
    },
    {
     "data": {
      "text/latex": [
       "$A \\subset B$: False$\\quad \\therefore \\neg(\\forall x \\in A : x \\notin B)$"
      ],
      "text/plain": [
       "<IPython.core.display.Latex object>"
      ]
     },
     "metadata": {},
     "output_type": "display_data"
    },
    {
     "data": {
      "image/png": "[encoded data removed]",
      "text/plain": [
       "<Figure size 432x288 with 1 Axes>"
      ]
     },
     "metadata": {},
     "output_type": "display_data"
    }
   ],
   "source": [
    "#### Pythonic solution\n",
    "\n",
    "#If A = {2, 3, 4, 5} and B = {2, 4, 6, 8...,}. Is A a subset of B? Show a proof.\n",
    "\n",
    "A = {2, 3, 4, 5}\n",
    "B = {2, 4, 6, 8, '...'}\n",
    "\n",
    "display(Latex('$A$ = ' + str(A)))\n",
    "display(Latex('$B$ = ' + str(B)))\n",
    "\n",
    "drawVenn2(A, B, labels = ('A', 'B'))\n",
    "\n",
    "display(Latex('$A \\subset B$: ' + str(A<B) + str('$\\quad \\\\therefore \\\\neg(\\\\forall x \\in A : x \\\\notin B)$')))"
   ]
  },
  {
   "cell_type": "code",
   "execution_count": 15,
   "id": "actual-forward",
   "metadata": {},
   "outputs": [
    {
     "data": {
      "text/latex": [
       "$A$ = {$x|x \\in \\mathbb{Z}, 0 \\leq x \\leq 9$}"
      ],
      "text/plain": [
       "<IPython.core.display.Latex object>"
      ]
     },
     "metadata": {},
     "output_type": "display_data"
    },
    {
     "data": {
      "text/latex": [
       "$A$ = {0, 1, 2, 3, 4, 5, 6, 7, 8, 9}"
      ],
      "text/plain": [
       "<IPython.core.display.Latex object>"
      ]
     },
     "metadata": {},
     "output_type": "display_data"
    },
    {
     "data": {
      "text/latex": [
       "$B$ = {8, 2, 4, 6}"
      ],
      "text/plain": [
       "<IPython.core.display.Latex object>"
      ]
     },
     "metadata": {},
     "output_type": "display_data"
    },
    {
     "data": {
      "text/latex": [
       "$X$ = {0, 1, 2, 3, 4, 5, 6, 7, 8, 9}$\\;-\\;${8, 2, 4, 6}"
      ],
      "text/plain": [
       "<IPython.core.display.Latex object>"
      ]
     },
     "metadata": {},
     "output_type": "display_data"
    },
    {
     "data": {
      "text/latex": [
       "$X$ = {0, 1, 3, 5, 7, 9}"
      ],
      "text/plain": [
       "<IPython.core.display.Latex object>"
      ]
     },
     "metadata": {},
     "output_type": "display_data"
    },
    {
     "data": {
      "text/latex": [
       "$X\\; \\emptyset\\; B$: True$\\quad X \\cap B = \\emptyset \\iff(\\forall x \\in X :  x \\notin B)$"
      ],
      "text/plain": [
       "<IPython.core.display.Latex object>"
      ]
     },
     "metadata": {},
     "output_type": "display_data"
    },
    {
     "data": {
      "image/png": "[encoded data removed]",
      "text/plain": [
       "<Figure size 432x288 with 1 Axes>"
      ]
     },
     "metadata": {},
     "output_type": "display_data"
    }
   ],
   "source": [
    "#### Pythonic solution\n",
    "\n",
    "#1. X and B are disjoint\n",
    "\n",
    "A = {0, 1, 2, 3, 4, 5, 6, 7, 8, 9}\n",
    "B = {2, 4, 6, 8}\n",
    "X = A - B\n",
    "\n",
    "display(Latex('$A$ = {$x|x \\in \\mathbb{Z}, 0 \\leq x \\leq 9$}'))\n",
    "display(Latex('$A$ = ' + str(A)))\n",
    "display(Latex('$B$ = ' + str(B)))\n",
    "display(Latex('$X$ = ' + str(A) + str('$\\;-\\;$') + str(B)))\n",
    "display(Latex('$X$ = ' + str(X)))\n",
    "\n",
    "display(Latex('$X\\; \\emptyset\\; B$: ' + str(X.isdisjoint(B)) + str('$\\quad X \\cap B = \\emptyset \\iff(\\\\forall x \\in X :  x \\\\notin B)$')))\n",
    "\n",
    "drawVenn2(X, B, labels =('X', 'B'))"
   ]
  },
  {
   "cell_type": "markdown",
   "id": "expensive-declaration",
   "metadata": {},
   "source": [
    "---"
   ]
  },
  {
   "cell_type": "code",
   "execution_count": 16,
   "id": "continuous-masters",
   "metadata": {},
   "outputs": [
    {
     "data": {
      "text/latex": [
       "$D$ = {3, 4, 5}"
      ],
      "text/plain": [
       "<IPython.core.display.Latex object>"
      ]
     },
     "metadata": {},
     "output_type": "display_data"
    },
    {
     "data": {
      "text/latex": [
       "$B$ = {8, 2, 4, 6}"
      ],
      "text/plain": [
       "<IPython.core.display.Latex object>"
      ]
     },
     "metadata": {},
     "output_type": "display_data"
    },
    {
     "data": {
      "text/latex": [
       "$X$ = {3, 4, 5} $-$ {8, 2, 4, 6}"
      ],
      "text/plain": [
       "<IPython.core.display.Latex object>"
      ]
     },
     "metadata": {},
     "output_type": "display_data"
    },
    {
     "data": {
      "text/latex": [
       "$X$ = {3, 5}"
      ],
      "text/plain": [
       "<IPython.core.display.Latex object>"
      ]
     },
     "metadata": {},
     "output_type": "display_data"
    },
    {
     "data": {
      "text/latex": [
       "$X \\subseteq D \\land X \\nsubseteq B$ : True"
      ],
      "text/plain": [
       "<IPython.core.display.Latex object>"
      ]
     },
     "metadata": {},
     "output_type": "display_data"
    },
    {
     "data": {
      "image/png": "[encoded data removed]",
      "text/plain": [
       "<Figure size 432x288 with 1 Axes>"
      ]
     },
     "metadata": {},
     "output_type": "display_data"
    }
   ],
   "source": [
    "#### Pythonic solution\n",
    "\n",
    "#2. X is a subseteq of D but not a subseteq of B.\n",
    "\n",
    "D = {3, 4, 5}\n",
    "B = {2, 4, 6, 8}\n",
    "X = D - B\n",
    "\n",
    "display(Latex('$D$ = ' + str(D)))\n",
    "display(Latex('$B$ = ' + str(B)))\n",
    "display(Latex('$X$ = ' + str(D) + str(' $-$ ') + str(B)))\n",
    "display(Latex('$X$ = ' + str(X)))\n",
    "\n",
    "drawVenn3(D, B, X, labels = ('D', 'B', 'X'))\n",
    "\n",
    "display(Latex('$X \\subseteq D \\land X \\\\nsubseteq B$ : ' + str(X.issubset(D))))"
   ]
  },
  {
   "cell_type": "markdown",
   "id": "european-cliff",
   "metadata": {},
   "source": [
    "---"
   ]
  },
  {
   "cell_type": "code",
   "execution_count": 17,
   "id": "dress-recall",
   "metadata": {},
   "outputs": [
    {
     "data": {
      "text/latex": [
       "$A$ = {0, 1, 2, 3, 4, 5, 6, 7, 8, 9}"
      ],
      "text/plain": [
       "<IPython.core.display.Latex object>"
      ]
     },
     "metadata": {},
     "output_type": "display_data"
    },
    {
     "data": {
      "text/latex": [
       "$C$ = {3, 4, 5}"
      ],
      "text/plain": [
       "<IPython.core.display.Latex object>"
      ]
     },
     "metadata": {},
     "output_type": "display_data"
    },
    {
     "data": {
      "text/latex": [
       "$X$ = {0, 1, 2, 3, 4, 5, 6, 7, 8, 9}$\\;-\\;${3, 4, 5}"
      ],
      "text/plain": [
       "<IPython.core.display.Latex object>"
      ]
     },
     "metadata": {},
     "output_type": "display_data"
    },
    {
     "data": {
      "text/latex": [
       "$X$ = {0, 1, 2, 6, 7, 8, 9}"
      ],
      "text/plain": [
       "<IPython.core.display.Latex object>"
      ]
     },
     "metadata": {},
     "output_type": "display_data"
    },
    {
     "data": {
      "text/latex": [
       "$X \\subseteq A\\; \\land \\nsubseteq C$ : True"
      ],
      "text/plain": [
       "<IPython.core.display.Latex object>"
      ]
     },
     "metadata": {},
     "output_type": "display_data"
    },
    {
     "data": {
      "image/png": "[encoded data removed]",
      "text/plain": [
       "<Figure size 432x288 with 1 Axes>"
      ]
     },
     "metadata": {},
     "output_type": "display_data"
    }
   ],
   "source": [
    "#### Pythonic solution\n",
    "\n",
    "#3. X is a subseteq of A but not a subseteq of C.\n",
    "\n",
    "A = {0, 1, 2, 3, 4, 5, 6, 7, 8, 9}\n",
    "C = {3, 4, 5}\n",
    "X = A - C\n",
    "\n",
    "display(Latex('$A$ = ' + str(A)))\n",
    "display(Latex('$C$ = ' + str(C)))\n",
    "display(Latex('$X$ = ' + str(A) + str('$\\;-\\;$') + str(C)))\n",
    "display(Latex('$X$ = ' + str(X)))\n",
    "\n",
    "drawVenn3(A, C, X, labels = ('A', 'C', 'X'))\n",
    "\n",
    "display(Latex('$X \\subseteq A\\; \\land \\\\nsubseteq C$ : ' + str(X.issubset(A))))"
   ]
  },
  {
   "cell_type": "markdown",
   "id": "floating-sitting",
   "metadata": {},
   "source": [
    "# 3. Set Operations\n",
    "---\n",
    "#### Use this website https://learnpython.com/blog/set-operations-in-python/ to learn about set Operations in Python.\n",
    "##### 1. First solve the problems manually, use Latex programming to show your manual solutions.\n",
    "##### 2. Second, solve the problem using python. Show your codes for the pythonic solutions.\n",
    "##### Hint: You know your solutions is right if your manual solution is equivalent to your pythonic solution.\n",
    "\n",
    "Given:<br>\n",
    "$\\textbf{U} = \\{1,2,3,4,5\\}$<br>\n",
    "$\\textbf{A} = \\{1,2,3,4,5\\}$<br>\n",
    "$\\textbf{B} = \\{4,5,6,7\\}$<br>\n",
    "$\\textbf{C} = \\{5,6,7,8,9\\}$<br>\n",
    "$\\textbf{D} = \\{1,3,5,7,9\\}$<br>\n",
    "$\\textbf{E} = \\{2,4,6,8\\}$<br>\n",
    "$\\textbf{F} = \\{1,5,9\\}$<br>\n",
    "- $\\textbf{C} \\oplus \\textbf{D}$\n",
    "- $\\textbf{A} \\backslash \\textbf{B}$\n",
    "- $\\textbf{B} \\backslash \\textbf{A}$\n",
    "- $\\textbf{E} \\oplus \\textbf{F}$"
   ]
  },
  {
   "cell_type": "markdown",
   "id": "hybrid-cache",
   "metadata": {},
   "source": [
    "#### Manual solution (C $\\oplus$ D)"
   ]
  },
  {
   "cell_type": "code",
   "execution_count": 18,
   "id": "israeli-illinois",
   "metadata": {},
   "outputs": [
    {
     "data": {
      "text/latex": [
       "$C \\oplus D$"
      ],
      "text/plain": [
       "<IPython.core.display.Latex object>"
      ]
     },
     "metadata": {},
     "output_type": "display_data"
    },
    {
     "data": {
      "text/latex": [
       "C = {5, 6, 7, 8, 9}"
      ],
      "text/plain": [
       "<IPython.core.display.Latex object>"
      ]
     },
     "metadata": {},
     "output_type": "display_data"
    },
    {
     "data": {
      "text/latex": [
       "D = {1, 3, 5, 7, 9}"
      ],
      "text/plain": [
       "<IPython.core.display.Latex object>"
      ]
     },
     "metadata": {},
     "output_type": "display_data"
    },
    {
     "data": {
      "text/latex": [
       "$C \\oplus D$ = $C \\cup B - (C \\cap D)$"
      ],
      "text/plain": [
       "<IPython.core.display.Latex object>"
      ]
     },
     "metadata": {},
     "output_type": "display_data"
    },
    {
     "data": {
      "text/latex": [
       "$C \\cup D$ : {5, 6, 7, 8, 9} + {1, 3, 5, 7, 9} = {1, 3, 5, 6, 7, 8, 9}"
      ],
      "text/plain": [
       "<IPython.core.display.Latex object>"
      ]
     },
     "metadata": {},
     "output_type": "display_data"
    },
    {
     "data": {
      "text/latex": [
       "$C \\cap D$ : {5, 6, 7, 8, 9} - {1, 3, 5, 7, 9} = {9, 5, 7}"
      ],
      "text/plain": [
       "<IPython.core.display.Latex object>"
      ]
     },
     "metadata": {},
     "output_type": "display_data"
    },
    {
     "data": {
      "text/latex": [
       "$C \\oplus D$ : {1, 3, 5, 6, 7, 8, 9} - {9, 5, 7} = {8, 1, 3, 6}"
      ],
      "text/plain": [
       "<IPython.core.display.Latex object>"
      ]
     },
     "metadata": {},
     "output_type": "display_data"
    }
   ],
   "source": [
    "C = {5, 6, 7, 8, 9}\n",
    "D = {1, 3, 5, 7, 9}\n",
    "var1 = C|D\n",
    "var2 = C&D\n",
    "\n",
    "display(Latex('$C \\oplus D$'))\n",
    "display(Latex('C = ' + str(C)))\n",
    "display(Latex('D = ' + str(D)))\n",
    "display(Latex('$C \\oplus D$ = $C \\cup B - (C \\cap D)$'))\n",
    "display(Latex('$C \\cup D$ : ' + str(C) + str(' + ') + str(D) + str(' = ') + str(var1)))\n",
    "display(Latex('$C \\cap D$ : ' + str(C) + str(' - ') + str(D) + str(' = ') + str(var2)))\n",
    "display(Latex('$C \\oplus D$ : ' +str(var1) + str(' - ') + str(var2) + str(' = ') + str(var1-var2)))"
   ]
  },
  {
   "cell_type": "markdown",
   "id": "unavailable-provider",
   "metadata": {},
   "source": [
    "#### Pythonic solution  (C $\\oplus$ D)"
   ]
  },
  {
   "cell_type": "code",
   "execution_count": 19,
   "id": "russian-programming",
   "metadata": {},
   "outputs": [
    {
     "data": {
      "text/latex": [
       "$C \\oplus D$"
      ],
      "text/plain": [
       "<IPython.core.display.Latex object>"
      ]
     },
     "metadata": {},
     "output_type": "display_data"
    },
    {
     "data": {
      "text/latex": [
       "C ={5, 6, 7, 8, 9}"
      ],
      "text/plain": [
       "<IPython.core.display.Latex object>"
      ]
     },
     "metadata": {},
     "output_type": "display_data"
    },
    {
     "data": {
      "text/latex": [
       "D ={1, 3, 5, 7, 9}"
      ],
      "text/plain": [
       "<IPython.core.display.Latex object>"
      ]
     },
     "metadata": {},
     "output_type": "display_data"
    },
    {
     "data": {
      "text/latex": [
       "$C \\cup D$: {1, 3, 5, 6, 7, 8, 9}"
      ],
      "text/plain": [
       "<IPython.core.display.Latex object>"
      ]
     },
     "metadata": {},
     "output_type": "display_data"
    },
    {
     "data": {
      "text/latex": [
       "$C \\cap D$: {9, 5, 7}"
      ],
      "text/plain": [
       "<IPython.core.display.Latex object>"
      ]
     },
     "metadata": {},
     "output_type": "display_data"
    },
    {
     "data": {
      "text/latex": [
       "$C \\oplus D$ = {8, 1, 3, 6}"
      ],
      "text/plain": [
       "<IPython.core.display.Latex object>"
      ]
     },
     "metadata": {},
     "output_type": "display_data"
    }
   ],
   "source": [
    "C = {5, 6, 7, 8, 9}\n",
    "D = {1, 3, 5, 7, 9}\n",
    "var1 = C.union(D)\n",
    "var2 = C.intersection(D)\n",
    "var3 = var1.difference(var2)\n",
    "\n",
    "display(Latex('$C \\oplus D$'))\n",
    "display(Latex('C =' + str(C)))\n",
    "display(Latex('D =' + str(D)))\n",
    "display(Latex('$C \\cup D$: ' + str(var1)))\n",
    "display(Latex('$C \\cap D$: ' + str(var2)))\n",
    "display(Latex('$C \\oplus D$ = ' + str(var3)))"
   ]
  },
  {
   "cell_type": "markdown",
   "id": "finite-sigma",
   "metadata": {},
   "source": [
    "---\n",
    "#### Manual solution (A\\B)"
   ]
  },
  {
   "cell_type": "code",
   "execution_count": 20,
   "id": "typical-linux",
   "metadata": {},
   "outputs": [
    {
     "data": {
      "text/latex": [
       "$A\\B$"
      ],
      "text/plain": [
       "<IPython.core.display.Latex object>"
      ]
     },
     "metadata": {},
     "output_type": "display_data"
    },
    {
     "data": {
      "text/latex": [
       "A = {1, 2, 3, 4, 5}"
      ],
      "text/plain": [
       "<IPython.core.display.Latex object>"
      ]
     },
     "metadata": {},
     "output_type": "display_data"
    },
    {
     "data": {
      "text/latex": [
       "B = {4, 5, 6, 7}"
      ],
      "text/plain": [
       "<IPython.core.display.Latex object>"
      ]
     },
     "metadata": {},
     "output_type": "display_data"
    },
    {
     "data": {
      "text/latex": [
       "$A - B$"
      ],
      "text/plain": [
       "<IPython.core.display.Latex object>"
      ]
     },
     "metadata": {},
     "output_type": "display_data"
    },
    {
     "data": {
      "text/latex": [
       "$A - B$ : {1, 2, 3, 4, 5} - {4, 5, 6, 7} = {1, 2, 3}"
      ],
      "text/plain": [
       "<IPython.core.display.Latex object>"
      ]
     },
     "metadata": {},
     "output_type": "display_data"
    },
    {
     "data": {
      "text/latex": [
       "$A\\B$ : {1, 2, 3}"
      ],
      "text/plain": [
       "<IPython.core.display.Latex object>"
      ]
     },
     "metadata": {},
     "output_type": "display_data"
    }
   ],
   "source": [
    "A = {1, 2, 3, 4, 5}\n",
    "B = {4, 5, 6, 7}\n",
    "var1 = A-B\n",
    "\n",
    "display(Latex('$A\\\\B$'))\n",
    "display(Latex('A = ' + str(A)))\n",
    "display(Latex('B = ' + str(B)))\n",
    "display(Latex('$A - B$'))\n",
    "display(Latex('$A - B$ : ' + str(A) + str(' - ') + str(B) + str(' = ') + str(var1)))\n",
    "display(Latex('$A\\\\B$ : ' +str(var1)))"
   ]
  },
  {
   "cell_type": "markdown",
   "id": "chemical-uniform",
   "metadata": {},
   "source": [
    "#### Pythonic Solution (A\\B)"
   ]
  },
  {
   "cell_type": "code",
   "execution_count": 21,
   "id": "strange-height",
   "metadata": {},
   "outputs": [
    {
     "data": {
      "text/latex": [
       "$A\\B$"
      ],
      "text/plain": [
       "<IPython.core.display.Latex object>"
      ]
     },
     "metadata": {},
     "output_type": "display_data"
    },
    {
     "data": {
      "text/latex": [
       "A = {1, 2, 3, 4, 5}"
      ],
      "text/plain": [
       "<IPython.core.display.Latex object>"
      ]
     },
     "metadata": {},
     "output_type": "display_data"
    },
    {
     "data": {
      "text/latex": [
       "B = {4, 5, 6, 7}"
      ],
      "text/plain": [
       "<IPython.core.display.Latex object>"
      ]
     },
     "metadata": {},
     "output_type": "display_data"
    },
    {
     "data": {
      "text/latex": [
       "$A\\B$ : {1, 2, 3}"
      ],
      "text/plain": [
       "<IPython.core.display.Latex object>"
      ]
     },
     "metadata": {},
     "output_type": "display_data"
    }
   ],
   "source": [
    "A = {1, 2, 3, 4, 5}\n",
    "B = {4, 5, 6, 7}\n",
    "\n",
    "display(Latex('$A\\\\B$'))\n",
    "display(Latex('A = ' + str(A)))\n",
    "display(Latex('B = ' + str(B)))\n",
    "display(Latex('$A\\\\B$ : ' +str(A-B)))"
   ]
  },
  {
   "cell_type": "markdown",
   "id": "maritime-novel",
   "metadata": {},
   "source": [
    "---\n",
    "#### Manual Solution (B\\A)"
   ]
  },
  {
   "cell_type": "code",
   "execution_count": 22,
   "id": "sexual-curtis",
   "metadata": {},
   "outputs": [
    {
     "data": {
      "text/latex": [
       "$B\\A$"
      ],
      "text/plain": [
       "<IPython.core.display.Latex object>"
      ]
     },
     "metadata": {},
     "output_type": "display_data"
    },
    {
     "data": {
      "text/latex": [
       "A = {1, 2, 3, 4, 5}"
      ],
      "text/plain": [
       "<IPython.core.display.Latex object>"
      ]
     },
     "metadata": {},
     "output_type": "display_data"
    },
    {
     "data": {
      "text/latex": [
       "B = {4, 5, 6, 7}"
      ],
      "text/plain": [
       "<IPython.core.display.Latex object>"
      ]
     },
     "metadata": {},
     "output_type": "display_data"
    },
    {
     "data": {
      "text/latex": [
       "$B - A$"
      ],
      "text/plain": [
       "<IPython.core.display.Latex object>"
      ]
     },
     "metadata": {},
     "output_type": "display_data"
    },
    {
     "data": {
      "text/latex": [
       "$B - A$ : {4, 5, 6, 7} - {1, 2, 3, 4, 5} = {6, 7}"
      ],
      "text/plain": [
       "<IPython.core.display.Latex object>"
      ]
     },
     "metadata": {},
     "output_type": "display_data"
    },
    {
     "data": {
      "text/latex": [
       "$B\\A$ : {6, 7}"
      ],
      "text/plain": [
       "<IPython.core.display.Latex object>"
      ]
     },
     "metadata": {},
     "output_type": "display_data"
    }
   ],
   "source": [
    "A = {1, 2, 3, 4, 5}\n",
    "B = {4, 5, 6, 7}\n",
    "var1 = B-A\n",
    "\n",
    "display(Latex('$B\\\\A$'))\n",
    "display(Latex('A = ' + str(A)))\n",
    "display(Latex('B = ' + str(B)))\n",
    "display(Latex('$B - A$'))\n",
    "display(Latex('$B - A$ : ' + str(B) + str(' - ') + str(A) + str(' = ') + str(var1)))\n",
    "display(Latex('$B\\\\A$ : ' +str(var1)))"
   ]
  },
  {
   "cell_type": "markdown",
   "id": "minimal-creator",
   "metadata": {},
   "source": [
    "#### Pythonic Solution (B\\A)"
   ]
  },
  {
   "cell_type": "code",
   "execution_count": 23,
   "id": "exempt-enterprise",
   "metadata": {},
   "outputs": [
    {
     "data": {
      "text/latex": [
       "$B\\A$"
      ],
      "text/plain": [
       "<IPython.core.display.Latex object>"
      ]
     },
     "metadata": {},
     "output_type": "display_data"
    },
    {
     "data": {
      "text/latex": [
       "A = {1, 2, 3, 4, 5}"
      ],
      "text/plain": [
       "<IPython.core.display.Latex object>"
      ]
     },
     "metadata": {},
     "output_type": "display_data"
    },
    {
     "data": {
      "text/latex": [
       "B = {4, 5, 6, 7}"
      ],
      "text/plain": [
       "<IPython.core.display.Latex object>"
      ]
     },
     "metadata": {},
     "output_type": "display_data"
    },
    {
     "data": {
      "text/latex": [
       "$B\\A$ : {6, 7}"
      ],
      "text/plain": [
       "<IPython.core.display.Latex object>"
      ]
     },
     "metadata": {},
     "output_type": "display_data"
    }
   ],
   "source": [
    "A = {1, 2, 3, 4, 5}\n",
    "B = {4, 5, 6, 7}\n",
    "\n",
    "display(Latex('$B\\\\A$'))\n",
    "display(Latex('A = ' + str(A)))\n",
    "display(Latex('B = ' + str(B)))\n",
    "display(Latex('$B\\\\A$ : ' +str(B-A)))"
   ]
  },
  {
   "cell_type": "markdown",
   "id": "killing-ebony",
   "metadata": {},
   "source": [
    "---\n",
    "#### Manual Solution (E$\\oplus$F)"
   ]
  },
  {
   "cell_type": "code",
   "execution_count": 24,
   "id": "separated-behavior",
   "metadata": {},
   "outputs": [
    {
     "data": {
      "text/latex": [
       "$E \\oplus F$"
      ],
      "text/plain": [
       "<IPython.core.display.Latex object>"
      ]
     },
     "metadata": {},
     "output_type": "display_data"
    },
    {
     "data": {
      "text/latex": [
       "E = {8, 2, 4, 6}"
      ],
      "text/plain": [
       "<IPython.core.display.Latex object>"
      ]
     },
     "metadata": {},
     "output_type": "display_data"
    },
    {
     "data": {
      "text/latex": [
       "F = {1, 5, 9}"
      ],
      "text/plain": [
       "<IPython.core.display.Latex object>"
      ]
     },
     "metadata": {},
     "output_type": "display_data"
    },
    {
     "data": {
      "text/latex": [
       "$E \\oplus F$ = $E \\cup F - (E \\cap F)$"
      ],
      "text/plain": [
       "<IPython.core.display.Latex object>"
      ]
     },
     "metadata": {},
     "output_type": "display_data"
    },
    {
     "data": {
      "text/latex": [
       "$E \\cup F$ : {8, 2, 4, 6} + {1, 5, 9} = {1, 2, 4, 5, 6, 8, 9}"
      ],
      "text/plain": [
       "<IPython.core.display.Latex object>"
      ]
     },
     "metadata": {},
     "output_type": "display_data"
    },
    {
     "data": {
      "text/latex": [
       "$E \\cap F$ : {8, 2, 4, 6} - {1, 5, 9} = set()"
      ],
      "text/plain": [
       "<IPython.core.display.Latex object>"
      ]
     },
     "metadata": {},
     "output_type": "display_data"
    },
    {
     "data": {
      "text/latex": [
       "$E \\oplus F$ : {1, 2, 4, 5, 6, 8, 9} - set() = {1, 2, 4, 5, 6, 8, 9}"
      ],
      "text/plain": [
       "<IPython.core.display.Latex object>"
      ]
     },
     "metadata": {},
     "output_type": "display_data"
    }
   ],
   "source": [
    "E = {2, 4, 6, 8}\n",
    "F = {1, 5, 9}\n",
    "var1 = E|F\n",
    "var2 = E&F\n",
    "\n",
    "display(Latex('$E \\oplus F$'))\n",
    "display(Latex('E = ' + str(E)))\n",
    "display(Latex('F = ' + str(F)))\n",
    "display(Latex('$E \\oplus F$ = $E \\cup F - (E \\cap F)$'))\n",
    "display(Latex('$E \\cup F$ : ' + str(E) + str(' + ') + str(F) + str(' = ') + str(var1)))\n",
    "display(Latex('$E \\cap F$ : ' + str(E) + str(' - ') + str(F) + str(' = ') + str(var2)))\n",
    "display(Latex('$E \\oplus F$ : ' +str(var1) + str(' - ') + str(var2) + str(' = ') + str(var1-var2)))"
   ]
  },
  {
   "cell_type": "markdown",
   "id": "advanced-norman",
   "metadata": {},
   "source": [
    "#### Pythonic solution (E $\\oplus$ F)"
   ]
  },
  {
   "cell_type": "code",
   "execution_count": 26,
   "id": "enhanced-twelve",
   "metadata": {},
   "outputs": [
    {
     "data": {
      "text/latex": [
       "$E \\oplus F$"
      ],
      "text/plain": [
       "<IPython.core.display.Latex object>"
      ]
     },
     "metadata": {},
     "output_type": "display_data"
    },
    {
     "data": {
      "text/latex": [
       "E ={8, 2, 4, 6}"
      ],
      "text/plain": [
       "<IPython.core.display.Latex object>"
      ]
     },
     "metadata": {},
     "output_type": "display_data"
    },
    {
     "data": {
      "text/latex": [
       "F ={1, 5, 9}"
      ],
      "text/plain": [
       "<IPython.core.display.Latex object>"
      ]
     },
     "metadata": {},
     "output_type": "display_data"
    },
    {
     "data": {
      "text/latex": [
       "$E \\cup F$: {1, 2, 4, 5, 6, 8, 9}"
      ],
      "text/plain": [
       "<IPython.core.display.Latex object>"
      ]
     },
     "metadata": {},
     "output_type": "display_data"
    },
    {
     "data": {
      "text/latex": [
       "$E \\cap F$: set()"
      ],
      "text/plain": [
       "<IPython.core.display.Latex object>"
      ]
     },
     "metadata": {},
     "output_type": "display_data"
    },
    {
     "data": {
      "text/latex": [
       "$E \\oplus F$ = {1, 2, 4, 5, 6, 8, 9}"
      ],
      "text/plain": [
       "<IPython.core.display.Latex object>"
      ]
     },
     "metadata": {},
     "output_type": "display_data"
    }
   ],
   "source": [
    "E = {2, 4, 6, 8}\n",
    "F = {1, 5, 9}\n",
    "var1 = E.union(F)\n",
    "var2 = E.intersection(F)\n",
    "var3 = var1.difference(var2)\n",
    "\n",
    "display(Latex('$E \\oplus F$'))\n",
    "display(Latex('E =' + str(E)))\n",
    "display(Latex('F =' + str(F)))\n",
    "display(Latex('$E \\cup F$: ' + str(var1)))\n",
    "display(Latex('$E \\cap F$: ' + str(var2)))\n",
    "display(Latex('$E \\oplus F$ = ' + str(var3)))"
   ]
  },
  {
   "cell_type": "markdown",
   "id": "silent-terminology",
   "metadata": {},
   "source": [
    "# 4. Finite Sets and The Counting Principles\n",
    "---\n",
    "\n",
    "In a Survey of 120 People, it was found that:\n",
    "- 65 read Newsweek Magazine\n",
    "- 45 read Times Magazine\n",
    "- 42 read Fortune Magazine\n",
    "- 20 read Both Newsweek and Time\n",
    "- 25 read both Newsweek and Fortune\n",
    "- 15 read both Time and Fortune\n",
    "- 8 read all three magazines\n",
    "With these information do the following:<br>\n",
    "1. Draw the venn diagram using python.\n",
    "2. Find the number of people who read at $\\textbf{\"least one\"}$ of the three magazines.\n",
    "3. Find the number of people who read exactly one magazine.\n",
    "<br>\n",
    "<br>\n",
    "In a survey of 25 new cars being sold at a local auto dealer was conducted to see which of the three popular options: air-conditioning, denoted as A; radio, denoted as R; and power windows, denoted as W were installed. The survey found that:\n",
    "- 15 had A. HINT: The condition said $\\textbf{\"had an A\"}$  <font color='red'>$\\textbf{ AND NOT}$ <font color='black'>$\\textbf{\"had an A only\"}$\n",
    "- 12 had R. HINT: The condition said $\\textbf{\"had a R\"}$  <font color='red'>$\\textbf{ AND NOT}$ <font color='black'>$\\textbf{\"had a R only\"}$\n",
    "- 11 had W. HINT: The condition said $\\textbf{\"had a W\"}$  <font color='red'>$\\textbf{ AND NOT}$ <font color='black'>$\\textbf{\"had a W only\"}$\n",
    "- 5 had A and W.\n",
    "- 9 had A and R.\n",
    "- 4 had R and W.\n",
    "- Only 3 hace the three options.\n",
    "With these information do the following:<br>\n",
    "1. Draw the venn diagram using python.<br>\n",
    "2. Find the number of cars with W only.<br>\n",
    "3. Find the number of cars with A only.<br>\n",
    "4. Find the number of cars with R only.<br>\n",
    "5. Find the number of cars with both R and W but not A.<br>\n",
    "6. Find the number of cars with both A and R but not W.<br>\n",
    "7. Find the number of cars with only one of the options.<br>\n",
    "8. Find the number of cars with at least one option.<br>\n",
    "9. Find the number of cars with none of the Options.<br>"
   ]
  },
  {
   "cell_type": "markdown",
   "id": "happy-logic",
   "metadata": {},
   "source": [
    "#### Solution 1"
   ]
  },
  {
   "cell_type": "code",
   "execution_count": 31,
   "id": "honey-librarian",
   "metadata": {},
   "outputs": [
    {
     "data": {
      "image/png": "[encoded data removed]",
      "text/plain": [
       "<Figure size 432x288 with 1 Axes>"
      ]
     },
     "metadata": {},
     "output_type": "display_data"
    },
    {
     "data": {
      "text/latex": [
       "Number of people who read at least one magazine: 100"
      ],
      "text/plain": [
       "<IPython.core.display.Latex object>"
      ]
     },
     "metadata": {},
     "output_type": "display_data"
    },
    {
     "data": {
      "text/latex": [
       "Number of people who read exactly one magazine: 56"
      ],
      "text/plain": [
       "<IPython.core.display.Latex object>"
      ]
     },
     "metadata": {},
     "output_type": "display_data"
    }
   ],
   "source": [
    "venn3_unweighted(subsets = (28, 18, 20, 10, 15, 25, 8),\n",
    "                set_labels = ('Newsweek',\n",
    "                            'Time', 'Fortune'),\n",
    "                set_colors=(\"lavender\",\n",
    "                            \"yellow\", \"green\"))\n",
    "plt.title (\"Magazine Readers\")\n",
    "plt.show()\n",
    "\n",
    "at_least_one = 28 + 18 + 17 + 8 + 12 + 7 + 10\n",
    "display(Latex('Number of people who read at least one magazine: ' + str(at_least_one)))\n",
    "\n",
    "exactly_one = 28 + 18 + 10\n",
    "display(Latex('Number of people who read exactly one magazine: ' + str(exactly_one)))"
   ]
  },
  {
   "cell_type": "markdown",
   "id": "wrapped-relationship",
   "metadata": {},
   "source": [
    "#### Solution 2"
   ]
  },
  {
   "cell_type": "code",
   "execution_count": 29,
   "id": "registered-sheriff",
   "metadata": {},
   "outputs": [
    {
     "data": {
      "image/png": "[encoded data removed]",
      "text/plain": [
       "<Figure size 432x288 with 1 Axes>"
      ]
     },
     "metadata": {},
     "output_type": "display_data"
    },
    {
     "data": {
      "text/latex": [
       "Number of cars with only one of the options: 11"
      ],
      "text/plain": [
       "<IPython.core.display.Latex object>"
      ]
     },
     "metadata": {},
     "output_type": "display_data"
    },
    {
     "data": {
      "text/latex": [
       "Number of cars with at least one of the option: 18"
      ],
      "text/plain": [
       "<IPython.core.display.Latex object>"
      ]
     },
     "metadata": {},
     "output_type": "display_data"
    },
    {
     "data": {
      "text/latex": [
       "Number of cars with none of the options: 2"
      ],
      "text/plain": [
       "<IPython.core.display.Latex object>"
      ]
     },
     "metadata": {},
     "output_type": "display_data"
    }
   ],
   "source": [
    "venn3_unweighted(subsets = (4, 2, 6, 5, 2, 1, 3),\n",
    "                set_labels = ('A',\n",
    "                            'R', 'W'),\n",
    "                set_colors=(\"blue\",\n",
    "                            \"green\", \"aquamarine\"))\n",
    "plt.title (\"Car Popularity\")\n",
    "plt.show()\n",
    "\n",
    "num7 = 2 + 4 + 5\n",
    "display(Latex('Number of cars with only one of the options: ' + str(num7)))\n",
    "\n",
    "num8 = 4 + 6 + 2 + 2 + 3 + 1\n",
    "display(Latex('Number of cars with at least one of the option: ' + str(num8)))\n",
    "\n",
    "num9 = 25 - 23\n",
    "display(Latex('Number of cars with none of the options: ' + str(num9)))"
   ]
  }
 ],
 "metadata": {
  "kernelspec": {
   "display_name": "Python 3",
   "language": "python",
   "name": "python3"
  },
  "language_info": {
   "codemirror_mode": {
    "name": "ipython",
    "version": 3
   },
   "file_extension": ".py",
   "mimetype": "text/x-python",
   "name": "python",
   "nbconvert_exporter": "python",
   "pygments_lexer": "ipython3",
   "version": "3.9.2"
  }
 },
 "nbformat": 4,
 "nbformat_minor": 5
}
